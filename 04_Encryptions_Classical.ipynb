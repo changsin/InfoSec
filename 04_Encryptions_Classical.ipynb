{
  "nbformat": 4,
  "nbformat_minor": 0,
  "metadata": {
    "colab": {
      "provenance": [],
      "authorship_tag": "ABX9TyOrrjkWSbw0aOtFG9sGkGW8",
      "include_colab_link": true
    },
    "kernelspec": {
      "name": "python3",
      "display_name": "Python 3"
    },
    "language_info": {
      "name": "python"
    }
  },
  "cells": [
    {
      "cell_type": "markdown",
      "metadata": {
        "id": "view-in-github",
        "colab_type": "text"
      },
      "source": [
        "<a href=\"https://colab.research.google.com/github/changsin/InfoSec/blob/main/04_Encryptions_Classical.ipynb\" target=\"_parent\"><img src=\"https://colab.research.google.com/assets/colab-badge.svg\" alt=\"Open In Colab\"/></a>"
      ]
    },
    {
      "cell_type": "code",
      "execution_count": 1,
      "metadata": {
        "colab": {
          "base_uri": "https://localhost:8080/"
        },
        "id": "kymPE7soin4l",
        "outputId": "d605e227-7986-4641-c8e1-7a631c0383a3"
      },
      "outputs": [
        {
          "output_type": "execute_result",
          "data": {
            "text/plain": [
              "{'h': 1, 'e': 1, 'l': 3, 'o': 2, ' ': 1, 'w': 1, 'r': 1, 'd': 1}"
            ]
          },
          "metadata": {},
          "execution_count": 1
        }
      ],
      "source": [
        "# prompt: Write code that counts the number of each character in a string\n",
        "\n",
        "def count_characters(input_string):\n",
        "  \"\"\"Counts the occurrences of each character in a string.\n",
        "\n",
        "  Args:\n",
        "    input_string: The string to analyze.\n",
        "\n",
        "  Returns:\n",
        "    A dictionary where keys are characters and values are their counts.\n",
        "  \"\"\"\n",
        "  char_counts = {}\n",
        "  for char in input_string:\n",
        "    char_counts[char] = char_counts.get(char, 0) + 1\n",
        "  return char_counts\n",
        "# Example usage\n",
        "string = \"hello world\"\n",
        "result = count_characters(string)\n",
        "result\n"
      ]
    },
    {
      "cell_type": "code",
      "source": [
        "goldbug_str = \"53‡‡†305))6*;4826)4‡.)4‡);806*;48†8¶60))85;1‡(;:‡*8†83(88) 5*†;46(;88*96*?;8)*‡(;485);5*†2:*‡(;4956*2(5*-4)8¶8*;4069285);)6†8)4‡‡;1(‡9;48081;8:8‡1;48†85;4)485†528806*81(‡9;48 ;(88;4(‡?34;48)4‡;161;:188;‡?;\"\n",
        "count_characters(goldbug_str)"
      ],
      "metadata": {
        "colab": {
          "base_uri": "https://localhost:8080/"
        },
        "id": "cX_R53IsjFAv",
        "outputId": "f71c6916-5088-4087-8c58-147630f6712c"
      },
      "execution_count": 2,
      "outputs": [
        {
          "output_type": "execute_result",
          "data": {
            "text/plain": [
              "{'5': 12,\n",
              " '3': 4,\n",
              " '‡': 16,\n",
              " '†': 8,\n",
              " '0': 6,\n",
              " ')': 16,\n",
              " '6': 11,\n",
              " '*': 13,\n",
              " ';': 26,\n",
              " '4': 19,\n",
              " '8': 33,\n",
              " '2': 5,\n",
              " '.': 1,\n",
              " '¶': 2,\n",
              " '1': 8,\n",
              " '(': 10,\n",
              " ':': 4,\n",
              " ' ': 2,\n",
              " '9': 5,\n",
              " '?': 3,\n",
              " '-': 1}"
            ]
          },
          "metadata": {},
          "execution_count": 2
        }
      ]
    },
    {
      "cell_type": "code",
      "source": [],
      "metadata": {
        "id": "2l7wPVdujMHP"
      },
      "execution_count": null,
      "outputs": []
    }
  ]
}