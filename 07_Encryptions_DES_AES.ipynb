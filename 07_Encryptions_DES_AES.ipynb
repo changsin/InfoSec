{
  "nbformat": 4,
  "nbformat_minor": 0,
  "metadata": {
    "colab": {
      "provenance": [],
      "authorship_tag": "ABX9TyNDs63riOxI3CR6E+WkeRXA",
      "include_colab_link": true
    },
    "kernelspec": {
      "name": "python3",
      "display_name": "Python 3"
    },
    "language_info": {
      "name": "python"
    }
  },
  "cells": [
    {
      "cell_type": "markdown",
      "metadata": {
        "id": "view-in-github",
        "colab_type": "text"
      },
      "source": [
        "<a href=\"https://colab.research.google.com/github/changsin/InfoSec/blob/main/07_Encryptions_DES_AES.ipynb\" target=\"_parent\"><img src=\"https://colab.research.google.com/assets/colab-badge.svg\" alt=\"Open In Colab\"/></a>"
      ]
    },
    {
      "cell_type": "markdown",
      "source": [
        "# 7. Modern Encryption Algorithms\n",
        "## 1. DES, 3DES, and AES"
      ],
      "metadata": {
        "id": "9AQQdc7Kbruu"
      }
    },
    {
      "cell_type": "code",
      "source": [
        "!pip install PyCryptodome"
      ],
      "metadata": {
        "colab": {
          "base_uri": "https://localhost:8080/"
        },
        "id": "T7-avtyicUKO",
        "outputId": "8b0ad763-9ec9-40dc-f283-de53e114422f"
      },
      "execution_count": null,
      "outputs": [
        {
          "output_type": "stream",
          "name": "stdout",
          "text": [
            "Collecting PyCryptodome\n",
            "  Downloading pycryptodome-3.21.0-cp36-abi3-manylinux_2_17_x86_64.manylinux2014_x86_64.whl.metadata (3.4 kB)\n",
            "Downloading pycryptodome-3.21.0-cp36-abi3-manylinux_2_17_x86_64.manylinux2014_x86_64.whl (2.3 MB)\n",
            "\u001b[?25l   \u001b[90m━━━━━━━━━━━━━━━━━━━━━━━━━━━━━━━━━━━━━━━━\u001b[0m \u001b[32m0.0/2.3 MB\u001b[0m \u001b[31m?\u001b[0m eta \u001b[36m-:--:--\u001b[0m\r\u001b[2K   \u001b[91m━━━━━━━━━━━━━━━━━━━━━━━━━━━━━━━━━━━━━━━\u001b[0m\u001b[91m╸\u001b[0m \u001b[32m2.3/2.3 MB\u001b[0m \u001b[31m81.0 MB/s\u001b[0m eta \u001b[36m0:00:01\u001b[0m\r\u001b[2K   \u001b[90m━━━━━━━━━━━━━━━━━━━━━━━━━━━━━━━━━━━━━━━━\u001b[0m \u001b[32m2.3/2.3 MB\u001b[0m \u001b[31m45.6 MB/s\u001b[0m eta \u001b[36m0:00:00\u001b[0m\n",
            "\u001b[?25hInstalling collected packages: PyCryptodome\n",
            "Successfully installed PyCryptodome-3.21.0\n"
          ]
        }
      ]
    },
    {
      "cell_type": "code",
      "execution_count": null,
      "metadata": {
        "colab": {
          "base_uri": "https://localhost:8080/"
        },
        "id": "oT0Xd-1-boG3",
        "outputId": "00de0061-e82f-454f-f641-951a12c66d9f"
      },
      "outputs": [
        {
          "output_type": "stream",
          "name": "stdout",
          "text": [
            "Original Message: Hello, Cryptography!\n",
            "\n",
            "DES Key: b'\\xa2+\\xd5 \\x96\\xf1\\x0f\\xbc' 0xa22bd52096f10fbc\n",
            "DES Ciphertext: 83e94726730d3057b6d4fe2b743d2fe809b0558983205459\n",
            "DES Decrypted: Hello, Cryptography!\n",
            "\n",
            "3DES Key: b'\\xecE\\xc7\\xfbO\\x7f]W#\\xe0\\xf7\\xea\\x9e\\xf47;;\\xc1\\x98\\x01@y\\xd3\\xe9' 0xec45c7fb4f7f5d5723e0f7ea9ef4373b3bc198014079d3e9\n",
            "3DES Ciphertext: df9b4dc37bd31b5599ac8dfb4a1b10b2abe05cca890c0132\n",
            "3DES Decrypted: Hello, Cryptography!\n",
            "\n",
            "AES Key: b'8\\x9f\\x14\\xb5\\x16\\\\\"\\n\\x073\\x8e\\xb7\\x1do\\xe1 ' 0x389f14b5165c220a07338eb71d6fe120\n",
            "AES Ciphertext: e7f540fcbdb2ed03ecfa789be3d4455ba57a388a904c76850a61535090b8caa0\n",
            "AES Decrypted: Hello, Cryptography!\n",
            "\n"
          ]
        }
      ],
      "source": [
        "from Crypto.Cipher import DES, DES3, AES\n",
        "from Crypto.Random import get_random_bytes\n",
        "from Crypto.Util.Padding import pad, unpad\n",
        "\n",
        "# Example plaintext\n",
        "plaintext = b\"Hello, Cryptography!\"\n",
        "\n",
        "# Key lengths\n",
        "des_key = get_random_bytes(8)            # DES key (8 bytes)\n",
        "tdes_key = DES3.adjust_key_parity(get_random_bytes(24))  # 3DES key (24 bytes)\n",
        "aes_key = get_random_bytes(16)           # AES-128 key (16 bytes)\n",
        "\n",
        "# DES Encryption/Decryption\n",
        "des_cipher = DES.new(des_key, DES.MODE_ECB)\n",
        "des_ciphertext = des_cipher.encrypt(pad(plaintext, DES.block_size))\n",
        "des_decrypted = unpad(des_cipher.decrypt(des_ciphertext), DES.block_size)\n",
        "\n",
        "# 3DES Encryption/Decryption\n",
        "tdes_cipher = DES3.new(tdes_key, DES3.MODE_ECB)\n",
        "tdes_ciphertext = tdes_cipher.encrypt(pad(plaintext, DES3.block_size))\n",
        "tdes_decrypted = unpad(tdes_cipher.decrypt(tdes_ciphertext), DES3.block_size)\n",
        "\n",
        "# AES Encryption/Decryption\n",
        "aes_cipher = AES.new(aes_key, AES.MODE_ECB)\n",
        "aes_ciphertext = aes_cipher.encrypt(pad(plaintext, AES.block_size))\n",
        "aes_decrypted = unpad(aes_cipher.decrypt(aes_ciphertext), AES.block_size)\n",
        "\n",
        "# Print results\n",
        "print(f\"Original Message: {plaintext.decode()}\\n\")\n",
        "print(f\"DES Key: {des_key} 0x{des_key.hex()}\")\n",
        "print(f\"DES Ciphertext: {des_ciphertext.hex()}\")\n",
        "print(f\"DES Decrypted: {des_decrypted.decode()}\\n\")\n",
        "print(f\"3DES Key: {tdes_key} 0x{tdes_key.hex()}\")\n",
        "print(f\"3DES Ciphertext: {tdes_ciphertext.hex()}\")\n",
        "print(f\"3DES Decrypted: {tdes_decrypted.decode()}\\n\")\n",
        "print(f\"AES Key: {aes_key} 0x{aes_key.hex()}\")\n",
        "print(f\"AES Ciphertext: {aes_ciphertext.hex()}\")\n",
        "print(f\"AES Decrypted: {aes_decrypted.decode()}\\n\")\n"
      ]
    },
    {
      "cell_type": "markdown",
      "source": [
        "### Use custom keys"
      ],
      "metadata": {
        "id": "ha4cwqnwlBQD"
      }
    },
    {
      "cell_type": "code",
      "source": [
        "# Key lengths\n",
        "des_key = b\"12345678\"            # DES key (8 bytes)\n",
        "tdes_key = b\"abcdefghijklmnopqrstuvwx\"  # 3DES key (24 bytes)\n",
        "aes_key = b\"abcdefghijklmnop\"           # AES-128 key (16 bytes)\n",
        "\n",
        "# DES Encryption/Decryption\n",
        "des_cipher = DES.new(des_key, DES.MODE_ECB)\n",
        "des_ciphertext = des_cipher.encrypt(pad(plaintext, DES.block_size))\n",
        "des_decrypted = unpad(des_cipher.decrypt(des_ciphertext), DES.block_size)\n",
        "\n",
        "# 3DES Encryption/Decryption\n",
        "tdes_cipher = DES3.new(tdes_key, DES3.MODE_ECB)\n",
        "tdes_ciphertext = tdes_cipher.encrypt(pad(plaintext, DES3.block_size))\n",
        "tdes_decrypted = unpad(tdes_cipher.decrypt(tdes_ciphertext), DES3.block_size)\n",
        "\n",
        "# AES Encryption/Decryption\n",
        "aes_cipher = AES.new(aes_key, AES.MODE_ECB)\n",
        "aes_ciphertext = aes_cipher.encrypt(pad(plaintext, AES.block_size))\n",
        "aes_decrypted = unpad(aes_cipher.decrypt(aes_ciphertext), AES.block_size)\n",
        "\n",
        "# Print results\n",
        "print(f\"Original Message: {plaintext.decode()}\\n\")\n",
        "print(f\"DES Key: {des_key} {len(des_key)} 0x{des_key.hex()}\")\n",
        "print(f\"DES Ciphertext: {des_ciphertext.hex()}\")\n",
        "print(f\"DES Decrypted: {des_decrypted.decode()}\\n\")\n",
        "print(f\"3DES Key: {tdes_key} {len(tdes_key)} 0x{tdes_key.hex()}\")\n",
        "print(f\"3DES Ciphertext: {tdes_ciphertext.hex()}\")\n",
        "print(f\"3DES Decrypted: {tdes_decrypted.decode()}\\n\")\n",
        "print(f\"AES Key: {aes_key} {len(aes_key)} 0x{aes_key.hex()}\")\n",
        "print(f\"AES Ciphertext: {aes_ciphertext.hex()}\")\n",
        "print(f\"AES Decrypted: {aes_decrypted.decode()}\\n\")\n"
      ],
      "metadata": {
        "colab": {
          "base_uri": "https://localhost:8080/"
        },
        "id": "7LLRSlHujkqX",
        "outputId": "9c02f1e4-cc36-4e92-afb9-5852db221b39"
      },
      "execution_count": null,
      "outputs": [
        {
          "output_type": "stream",
          "name": "stdout",
          "text": [
            "Original Message: Hello, Cryptography!\n",
            "\n",
            "DES Key: b'12345678' 8 0x3132333435363738\n",
            "DES Ciphertext: 0493c31be7a4874ba19325316b8c5524ab67955eb88fcdf9\n",
            "DES Decrypted: Hello, Cryptography!\n",
            "\n",
            "3DES Key: b'abcdefghijklmnopqrstuvwx' 24 0x6162636465666768696a6b6c6d6e6f707172737475767778\n",
            "3DES Ciphertext: 4d28d96249028cb6df006e3014aa35504ec6e7be4216fa4d\n",
            "3DES Decrypted: Hello, Cryptography!\n",
            "\n",
            "AES Key: b'abcdefghijklmnop' 16 0x6162636465666768696a6b6c6d6e6f70\n",
            "AES Ciphertext: 3d08fe43e25e7c3fafd357268e916bd55c9c4c80f8fba8e690f4f962579ccf70\n",
            "AES Decrypted: Hello, Cryptography!\n",
            "\n"
          ]
        }
      ]
    },
    {
      "cell_type": "code",
      "source": [
        "# prompt: how can I count the number of bytes for a given string or a byte chunk?\n",
        "\n",
        "def get_byte_count(data):\n",
        "  \"\"\"Counts the number of bytes in a string or byte chunk.\n",
        "\n",
        "  Args:\n",
        "    data: The string or byte chunk.\n",
        "\n",
        "  Returns:\n",
        "    The number of bytes.\n",
        "  \"\"\"\n",
        "  if isinstance(data, str):\n",
        "    return len(data.encode('utf-8'))  # Encode to UTF-8 to get byte count\n",
        "  elif isinstance(data, bytes):\n",
        "    return len(data)\n",
        "  else:\n",
        "    return 0  # Or raise an exception for unsupported data types\n",
        "\n",
        "\n",
        "# Example usage with the provided code:\n",
        "\n",
        "print(f\"Number of bytes in plaintext: {get_byte_count(plaintext)}\")\n",
        "print(f\"Number of bytes in des_key: {get_byte_count(des_key)}\")\n",
        "print(f\"Number of bytes in des_ciphertext: {get_byte_count(des_ciphertext)}\")\n",
        "print(f\"Number of bytes in tdes_key: {get_byte_count(tdes_key)}\")\n",
        "print(f\"Number of bytes in tdes_ciphertext: {get_byte_count(tdes_ciphertext)}\")\n",
        "print(f\"Number of bytes in aes_key: {get_byte_count(aes_key)}\")\n",
        "print(f\"Number of bytes in aes_ciphertext: {get_byte_count(aes_ciphertext)}\")\n"
      ],
      "metadata": {
        "colab": {
          "base_uri": "https://localhost:8080/"
        },
        "id": "GVfeQWVOiyNN",
        "outputId": "ef4257d1-b5d8-4cf7-b1cc-dd888784f1ca"
      },
      "execution_count": null,
      "outputs": [
        {
          "output_type": "stream",
          "name": "stdout",
          "text": [
            "Number of bytes in plaintext: 20\n",
            "Number of bytes in des_key: 8\n",
            "Number of bytes in des_ciphertext: 24\n",
            "Number of bytes in tdes_key: 24\n",
            "Number of bytes in tdes_ciphertext: 24\n",
            "Number of bytes in aes_key: 16\n",
            "Number of bytes in aes_ciphertext: 32\n"
          ]
        }
      ]
    },
    {
      "cell_type": "code",
      "source": [
        "# Example of printing byte values for the plaintext\n",
        "print(\"Byte values of plaintext:\")\n",
        "for byte in plaintext:\n",
        "    print(f\"{chr(byte)} {byte} {byte:02x}\", end=\" \")  # Print each byte in hex format\n",
        "    print(\"\\n\")"
      ],
      "metadata": {
        "colab": {
          "base_uri": "https://localhost:8080/"
        },
        "id": "ncK2SpDZjMLm",
        "outputId": "89211385-7aca-4bee-bb48-861f42dd5cd3"
      },
      "execution_count": null,
      "outputs": [
        {
          "output_type": "stream",
          "name": "stdout",
          "text": [
            "Byte values of plaintext:\n",
            "H 72 48 \n",
            "\n",
            "e 101 65 \n",
            "\n",
            "l 108 6c \n",
            "\n",
            "l 108 6c \n",
            "\n",
            "o 111 6f \n",
            "\n",
            ", 44 2c \n",
            "\n",
            "  32 20 \n",
            "\n",
            "C 67 43 \n",
            "\n",
            "r 114 72 \n",
            "\n",
            "y 121 79 \n",
            "\n",
            "p 112 70 \n",
            "\n",
            "t 116 74 \n",
            "\n",
            "o 111 6f \n",
            "\n",
            "g 103 67 \n",
            "\n",
            "r 114 72 \n",
            "\n",
            "a 97 61 \n",
            "\n",
            "p 112 70 \n",
            "\n",
            "h 104 68 \n",
            "\n",
            "y 121 79 \n",
            "\n",
            "! 33 21 \n",
            "\n"
          ]
        }
      ]
    }
  ]
}