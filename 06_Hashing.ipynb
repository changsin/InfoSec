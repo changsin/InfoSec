{
  "nbformat": 4,
  "nbformat_minor": 0,
  "metadata": {
    "colab": {
      "provenance": [],
      "authorship_tag": "ABX9TyM7UpKyB8yA565kxe6r5+iM",
      "include_colab_link": true
    },
    "kernelspec": {
      "name": "python3",
      "display_name": "Python 3"
    },
    "language_info": {
      "name": "python"
    }
  },
  "cells": [
    {
      "cell_type": "markdown",
      "metadata": {
        "id": "view-in-github",
        "colab_type": "text"
      },
      "source": [
        "<a href=\"https://colab.research.google.com/github/changsin/InfoSec/blob/main/06_Hashing.ipynb\" target=\"_parent\"><img src=\"https://colab.research.google.com/assets/colab-badge.svg\" alt=\"Open In Colab\"/></a>"
      ]
    },
    {
      "cell_type": "markdown",
      "source": [
        "# Hashing Functions\n"
      ],
      "metadata": {
        "id": "htR6aNUBXQZj"
      }
    },
    {
      "cell_type": "markdown",
      "source": [
        "1. Calculate the hash values for \"Hello, World!\" using MD5, SHA256, and HMAC-SHA256."
      ],
      "metadata": {
        "id": "kEidyTu0XV0x"
      }
    },
    {
      "cell_type": "code",
      "execution_count": 1,
      "metadata": {
        "colab": {
          "base_uri": "https://localhost:8080/"
        },
        "id": "NumQP9OAWXD_",
        "outputId": "285eb437-dc5b-49c6-9853-16c1e3b67554"
      },
      "outputs": [
        {
          "output_type": "stream",
          "name": "stdout",
          "text": [
            "Message: Hello, World!\n",
            "\n",
            "MD5 Hash: 65a8e27d8879283831b664bd8b7f0ad4\n",
            "SHA-256 Hash: dffd6021bb2bd5b0af676290809ec3a53191dd81c7f70a4b28688a362182986f\n",
            "HMAC-SHA256 Hash: 16ee525f6c944ff49a368cd593eb7b72883b14456c7b583bba4ff973ff4b30f9\n"
          ]
        }
      ],
      "source": [
        "import hashlib\n",
        "import hmac\n",
        "\n",
        "# Example string and secret key\n",
        "message = \"Hello, World!\"\n",
        "key = \"secret-key\"\n",
        "\n",
        "# MD5 Hash\n",
        "md5_hash = hashlib.md5(message.encode()).hexdigest()\n",
        "\n",
        "# SHA-256 Hash\n",
        "sha256_hash = hashlib.sha256(message.encode()).hexdigest()\n",
        "\n",
        "# HMAC-SHA256\n",
        "hmac_sha256_hash = hmac.new(key.encode(), message.encode(), hashlib.sha256).hexdigest()\n",
        "\n",
        "# Print results\n",
        "print(f\"Message: {message}\\n\")\n",
        "print(f\"MD5 Hash: {md5_hash}\")\n",
        "print(f\"SHA-256 Hash: {sha256_hash}\")\n",
        "print(f\"HMAC-SHA256 Hash: {hmac_sha256_hash}\")"
      ]
    },
    {
      "cell_type": "code",
      "source": [],
      "metadata": {
        "id": "nKGEsfWBWYny"
      },
      "execution_count": null,
      "outputs": []
    }
  ]
}